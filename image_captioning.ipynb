{
 "cells": [
  {
   "cell_type": "markdown",
   "id": "e19e8ca4-b3aa-4d2a-8bcb-32537c2c529f",
   "metadata": {},
   "source": [
    "Image captioning is the task of predicting a caption for a given image. Common real world applications of it include aiding visually impaired people that can help them navigate through different situations. Therefore, image captioning helps to improve content accessibility for people by describing images to them.\n",
    "\n",
    "This guide shows how to:\n",
    "1. Fine-tune an image captioning model.\n",
    "2. Use the fine-tuned model for inference."
   ]
  },
  {
   "cell_type": "markdown",
   "id": "92750bfc-7835-413b-8e12-c68394189e04",
   "metadata": {},
   "source": [
    "# Libraries"
   ]
  },
  {
   "cell_type": "code",
   "execution_count": null,
   "id": "2d11d63d-c206-4584-8209-896d18c4d83e",
   "metadata": {},
   "outputs": [],
   "source": [
    "pip install transformers datasets evaluate -q\n",
    "pip install jiwer -q"
   ]
  }
 ],
 "metadata": {
  "kernelspec": {
   "display_name": "Python [conda env:nlp]",
   "language": "python",
   "name": "conda-env-nlp-py"
  },
  "language_info": {
   "codemirror_mode": {
    "name": "ipython",
    "version": 3
   },
   "file_extension": ".py",
   "mimetype": "text/x-python",
   "name": "python",
   "nbconvert_exporter": "python",
   "pygments_lexer": "ipython3",
   "version": "3.10.13"
  }
 },
 "nbformat": 4,
 "nbformat_minor": 5
}
