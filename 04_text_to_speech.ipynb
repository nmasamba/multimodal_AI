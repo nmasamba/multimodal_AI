{
 "cells": [
  {
   "cell_type": "markdown",
   "id": "4dce7fe3-48a1-4d90-a0d5-93bd55c54c1a",
   "metadata": {},
   "source": [
    "Text-to-speech (TTS) is the task of creating natural-sounding speech from text, where the speech can be generated in multiple languages and for multiple speakers. Several text-to-speech models are currently available in 🤗 Transformers, such as Bark, MMS, VITS and SpeechT5.\n",
    "\n",
    "You can easily generate audio using the \"text-to-audio\" pipeline (or its alias - \"text-to-speech\"). Some models, like Bark, can also be conditioned to generate non-verbal communications such as laughing, sighing and crying, or even add music."
   ]
  },
  {
   "cell_type": "markdown",
   "id": "acf880a0-d66f-4116-aa99-0688edca7493",
   "metadata": {},
   "source": [
    "Here’s an example of how you would use the \"text-to-speech\" pipeline with Bark:"
   ]
  },
  {
   "cell_type": "code",
   "execution_count": null,
   "id": "88337116-ac1d-4f78-870c-0e9c8bae4685",
   "metadata": {},
   "outputs": [],
   "source": [
    "from transformers import pipeline\n",
    "from IPython.display import Audio\n",
    "\n",
    "pipe = pipeline(\"text-to-speech\", model=\"suno/bark-small\")\n",
    "text = \"[clears throat] This is a test ... and I just took a long pause.\"\n",
    "output = pipe(text)\n",
    "Audio(output[\"audio\"], rate=output[\"sampling_rate\"])\n"
   ]
  },
  {
   "cell_type": "markdown",
   "id": "01320809-7970-452e-bc9a-0a677fe44a14",
   "metadata": {},
   "source": [
    "If you are looking to fine-tune a TTS model, the only text-to-speech models currently available in 🤗 Transformers are SpeechT5 and FastSpeech2Conformer, though more will be added in the future. SpeechT5 is pre-trained on a combination of speech-to-text and text-to-speech data, allowing it to learn a unified space of hidden representations shared by both text and speech. This means that the same pre-trained model can be fine-tuned for different tasks. Furthermore, SpeechT5 supports multiple speakers through x-vector speaker embeddings.\n",
    "\n",
    "The remainder of this guide illustrates how to:\n",
    "1. Fine-tune SpeechT5 that was originally trained on English speech on the Dutch (nl) language subset of the VoxPopuli dataset.\n",
    "2. Use your refined model for inference in one of two ways: using a pipeline or directly."
   ]
  },
  {
   "cell_type": "markdown",
   "id": "1c757716-8f6e-4cfe-ab7f-0af57ca12145",
   "metadata": {},
   "source": [
    "# Libraries"
   ]
  },
  {
   "cell_type": "code",
   "execution_count": null,
   "id": "a61c4e11-bb04-4c69-af50-207bbcb0f9d7",
   "metadata": {},
   "outputs": [],
   "source": [
    "pip install datasets soundfile speechbrain accelerate\n",
    "\n",
    "# Install 🤗Transformers from source as not all the SpeechT5 features have been merged into an official release\n",
    "pip install git+https://github.com/huggingface/transformers.git"
   ]
  },
  {
   "cell_type": "code",
   "execution_count": null,
   "id": "cbfa3993-6be1-4a90-b121-37d4a9c55704",
   "metadata": {},
   "outputs": [],
   "source": [
    "# To follow this guide you will need a GPU\n",
    "\n",
    "# If you’re working in a notebook, run the following line to check if NVIDIA GPU available\n",
    "!nvidia-smi\n",
    "\n",
    "# Or for AMD GPU\n",
    "!rocm-smi"
   ]
  },
  {
   "cell_type": "code",
   "execution_count": null,
   "id": "6bf34fa1-398b-4915-ba9e-12e26fb96d84",
   "metadata": {},
   "outputs": [],
   "source": [
    "import os\n",
    "import torch\n",
    "import matplotlib.pyplot as plt\n",
    "from dataclasses import dataclass\n",
    "from collections import defaultdict\n",
    "from typing import Any, Dict, List, Union\n",
    "from accelerate.test_utils.testing import get_backend\n",
    "from speechbrain.inference.classifiers import EncoderClassifier\n",
    "from transformers import SpeechT5Processor, SpeechT5ForTextToSpeech"
   ]
  },
  {
   "cell_type": "markdown",
   "id": "68c7df51-c5be-422e-8350-80de49858a9a",
   "metadata": {},
   "source": [
    "# Data"
   ]
  },
  {
   "cell_type": "markdown",
   "id": "b0892b50-f61d-468c-98a7-92a76594f1f7",
   "metadata": {},
   "source": [
    "VoxPopuli is a large-scale multilingual speech corpus consisting of data sourced from 2009-2020 European Parliament event recordings. It contains labelled audio-transcription data for 15 European languages. In this guide, we are using the Dutch language subset, feel free to pick another subset.\n",
    "\n",
    "Note that VoxPopuli or any other automated speech recognition (ASR) dataset may not be the most suitable option for training TTS models. The features that make it beneficial for ASR, such as excessive background noise, are typically undesirable in TTS. However, finding top-quality, multilingual, and multi-speaker TTS datasets can be quite challenging."
   ]
  },
  {
   "cell_type": "code",
   "execution_count": null,
   "id": "709a23d5-ab04-4b40-a52a-ca5246d5533e",
   "metadata": {},
   "outputs": [],
   "source": [
    "# Load data set\n",
    "from datasets import load_dataset, Audio\n",
    "\n",
    "# Check len == 20968 examples\n",
    "dataset = load_dataset(\"facebook/voxpopuli\", \"nl\", split=\"train\")\n",
    "len(dataset)"
   ]
  },
  {
   "cell_type": "code",
   "execution_count": null,
   "id": "b5bba98f-3595-41c1-a10e-1de6e02b51e5",
   "metadata": {},
   "outputs": [],
   "source": [
    "# SpeechT5 expects audio data to have a sampling rate of 16 kHz\n",
    "# Make sure the examples in the dataset meet the requirement of 16kHz sampling rate\n",
    "dataset = dataset.cast_column(\"audio\", Audio(sampling_rate=16000))"
   ]
  },
  {
   "cell_type": "markdown",
   "id": "b3a4d384-32ff-4227-90f3-5fbcf7a80531",
   "metadata": {},
   "source": [
    "# Preprocessing"
   ]
  },
  {
   "cell_type": "markdown",
   "id": "e9609121-b659-4a5e-b41b-86b7b3d0dbde",
   "metadata": {},
   "source": [
    "## Text Proprocessing"
   ]
  },
  {
   "cell_type": "code",
   "execution_count": null,
   "id": "17f24b0f-bab1-49a7-8179-9d12bdf58c4f",
   "metadata": {},
   "outputs": [],
   "source": [
    "# Load appropriate tokenizer and clean up text\n",
    "checkpoint = \"microsoft/speecht5_tts\"\n",
    "processor = SpeechT5Processor.from_pretrained(checkpoint)\n",
    "tokenizer = processor.tokenizer"
   ]
  },
  {
   "cell_type": "markdown",
   "id": "81a32d59-ab0b-44aa-b015-f2696c56fb50",
   "metadata": {},
   "source": [
    "The dataset examples contain ```raw_text``` and ```normalized_text``` features. When deciding which feature to use as the text input, consider that the SpeechT5 tokenizer doesn’t have any tokens for numbers. In ```normalized_text``` the numbers are written out as text. Thus, it is a better fit, and it is recommended to use ```normalized_text``` as input text.\n",
    "\n",
    "Because SpeechT5 was trained on the English language, it may not recognize certain characters in the Dutch dataset. If left as is, these characters will be converted to ```<unk>``` tokens. However, in Dutch, certain characters like à are used to stress syllables. In order to preserve the meaning of the text, we can replace this character with a regular a.\n",
    "\n",
    "To identify unsupported tokens, extract all unique characters in the dataset using the SpeechT5Tokenizer which works with characters as tokens. To do this, write the ```extract_all_chars``` mapping function that concatenates the transcriptions from all examples into one string and converts it to a set of characters. Make sure to set ```batched=True``` and ```batch_size=-1``` in ```dataset.map()``` so that all transcriptions are available at once for the mapping function."
   ]
  },
  {
   "cell_type": "code",
   "execution_count": null,
   "id": "bf00946e-b95e-474a-88df-a2230d214a59",
   "metadata": {},
   "outputs": [],
   "source": [
    "def extract_all_chars(batch):\n",
    "    all_text = \" \".join(batch[\"normalized_text\"])\n",
    "    vocab = list(set(all_text))\n",
    "    return {\"vocab\": [vocab], \"all_text\": [all_text]}\n",
    "\n",
    "\n",
    "vocabs = dataset.map(\n",
    "    extract_all_chars,\n",
    "    batched=True,\n",
    "    batch_size=-1,\n",
    "    keep_in_memory=True,\n",
    "    remove_columns=dataset.column_names,\n",
    ")\n",
    "\n",
    "dataset_vocab = set(vocabs[\"vocab\"][0])\n",
    "tokenizer_vocab = {k for k, _ in tokenizer.get_vocab().items()}"
   ]
  },
  {
   "cell_type": "code",
   "execution_count": null,
   "id": "68e11b91-89ae-49d2-be79-c6def731230c",
   "metadata": {},
   "outputs": [],
   "source": [
    "# Identify unrecognised characters\n",
    "print(dataset_vocab - tokenizer_vocab)\n",
    "\n",
    "# Handle the unsupported characters identified in the previous step (manually in this case)\n",
    "replacements = [\n",
    "    (\"à\", \"a\"),\n",
    "    (\"ç\", \"c\"),\n",
    "    (\"è\", \"e\"),\n",
    "    (\"ë\", \"e\"),\n",
    "    (\"í\", \"i\"),\n",
    "    (\"ï\", \"i\"),\n",
    "    (\"ö\", \"o\"),\n",
    "    (\"ü\", \"u\"),\n",
    "]\n",
    "\n",
    "\n",
    "def cleanup_text(inputs):\n",
    "    for src, dst in replacements:\n",
    "        inputs[\"normalized_text\"] = inputs[\"normalized_text\"].replace(src, dst)\n",
    "    return inputs\n",
    "\n",
    "\n",
    "dataset = dataset.map(cleanup_text)"
   ]
  },
  {
   "cell_type": "markdown",
   "id": "4594b3e9-5345-43d6-b6e4-8fc3cfe4d594",
   "metadata": {},
   "source": [
    "## Audio Preprocessing"
   ]
  },
  {
   "cell_type": "markdown",
   "id": "d583aa51-e5ed-4c08-b4cf-dbe1b5df0ea5",
   "metadata": {},
   "source": [
    "### Multiple speaker identification"
   ]
  },
  {
   "cell_type": "code",
   "execution_count": null,
   "id": "70518946-5575-46be-b6fa-85745e559700",
   "metadata": {},
   "outputs": [],
   "source": [
    "# How many speakers are represented in the dataset?\n",
    "speaker_counts = defaultdict(int)\n",
    "\n",
    "for speaker_id in dataset[\"speaker_id\"]:\n",
    "    speaker_counts[speaker_id] += 1"
   ]
  },
  {
   "cell_type": "code",
   "execution_count": null,
   "id": "d2800bdd-bc95-414f-9221-587ea1a0b73a",
   "metadata": {},
   "outputs": [],
   "source": [
    "# How many examples are there for each speaker?\n",
    "plt.figure()\n",
    "plt.hist(speaker_counts.values(), bins=20)\n",
    "plt.ylabel(\"Speakers\")\n",
    "plt.xlabel(\"Examples\")\n",
    "plt.show()"
   ]
  },
  {
   "cell_type": "markdown",
   "id": "7f67d65a-b4ea-4dc6-a748-37f54d119644",
   "metadata": {},
   "source": [
    "The histogram reveals that approximately one-third of the speakers in the dataset have fewer than 100 examples, while around ten speakers have more than 500 examples. To improve training efficiency and balance the dataset, we can limit the data to speakers with between 100 and 400 examples.\n",
    "\n",
    "You should be left with just under 10,000 examples from approximately 40 unique speakers, which should be sufficient.\n",
    "\n",
    "Note that some speakers with few examples may actually have more audio available if the examples are long. However, determining the total amount of audio for each speaker requires scanning through the entire dataset, which is a time-consuming process that involves loading and decoding each audio file. As such, we have chosen to skip this step here."
   ]
  },
  {
   "cell_type": "code",
   "execution_count": null,
   "id": "2b47f526-6ef0-402e-b831-87f10b691861",
   "metadata": {},
   "outputs": [],
   "source": [
    "def select_speaker(speaker_id):\n",
    "    return 100 <= speaker_counts[speaker_id] <= 400\n",
    "\n",
    "dataset = dataset.filter(select_speaker, input_columns=[\"speaker_id\"])\n"
   ]
  },
  {
   "cell_type": "code",
   "execution_count": null,
   "id": "a9f038ac-9d5d-483c-bd29-5c5a710fb09f",
   "metadata": {},
   "outputs": [],
   "source": [
    "# Check how many speakers are left\n",
    "len(set(dataset[\"speaker_id\"]))"
   ]
  },
  {
   "cell_type": "code",
   "execution_count": null,
   "id": "efd7f63b-3540-4a82-b08a-fe6158eda08a",
   "metadata": {},
   "outputs": [],
   "source": [
    "# Check how many examples are left\n",
    "len(dataset)"
   ]
  },
  {
   "cell_type": "markdown",
   "id": "649ccd57-e3ad-4bae-9369-54b80c9819de",
   "metadata": {},
   "source": [
    "### Multiple speaker embeddings"
   ]
  },
  {
   "cell_type": "markdown",
   "id": "7d0b9ac1-f33e-4d4c-9310-5737e9473a5c",
   "metadata": {},
   "source": [
    "To enable the TTS model to differentiate between multiple speakers, you’ll need to create a speaker embedding for each example. The speaker embedding is an additional input into the model that captures a particular speaker’s voice characteristics. \n",
    "\n",
    "To generate these speaker embeddings, use the pre-trained ```spkrec-xvect-voxceleb``` model from SpeechBrain. It’s important to note that the ```spkrec-xvect-voxceleb``` model was trained on English speech from the VoxCeleb dataset, whereas the training examples in this guide are in Dutch. While we believe that this model will still generate reasonable speaker embeddings for our Dutch dataset, this assumption may not hold true in all cases.\n",
    "\n",
    "For optimal results, we recommend training an X-vector model on the target speech first. This will ensure that the model is better able to capture the unique voice characteristics present in the Dutch language."
   ]
  },
  {
   "cell_type": "code",
   "execution_count": null,
   "id": "6abef587-fbc5-4b0a-9fb7-28c59fe3482a",
   "metadata": {},
   "outputs": [],
   "source": [
    "\n",
    "spk_model_name = \"speechbrain/spkrec-xvect-voxceleb\"\n",
    "device, _, _ = get_backend() # automatically detects the underlying device type (CUDA, CPU, XPU, MPS, etc.)\n",
    "speaker_model = EncoderClassifier.from_hparams(\n",
    "    source=spk_model_name,\n",
    "    run_opts={\"device\": device},\n",
    "    savedir=os.path.join(\"/tmp\", spk_model_name),\n",
    ")\n",
    "\n",
    "\n",
    "def create_speaker_embedding(waveform):\n",
    "    \"\"\"\n",
    "    Function input: audio waveform. \n",
    "    Function output: 512-element vector containing the corresponding speaker embedding.\n",
    "    \"\"\"\n",
    "    with torch.no_grad():\n",
    "        speaker_embeddings = speaker_model.encode_batch(torch.tensor(waveform))\n",
    "        speaker_embeddings = torch.nn.functional.normalize(speaker_embeddings, dim=2)\n",
    "        speaker_embeddings = speaker_embeddings.squeeze().cpu().numpy()\n",
    "    return speaker_embeddings"
   ]
  },
  {
   "cell_type": "markdown",
   "id": "7d5a8992-a079-4ce1-b818-e97a3d0f5eda",
   "metadata": {},
   "source": [
    "## Final preprocessing step"
   ]
  },
  {
   "cell_type": "markdown",
   "id": "6d7fef8e-b8ec-478b-a240-de76fb83d9af",
   "metadata": {},
   "source": [
    "Finally, let’s process the data into the format the model expects. Create a ```prepare_dataset``` function that takes in a single example and uses the SpeechT5Processor object to tokenise the input text and load the target audio into a log-mel spectrogram. It should also add the speaker embeddings as an additional input."
   ]
  },
  {
   "cell_type": "code",
   "execution_count": null,
   "id": "8dff8498-9f06-4057-827b-ae53587f915c",
   "metadata": {},
   "outputs": [],
   "source": [
    "def prepare_dataset(example):\n",
    "    audio = example[\"audio\"]\n",
    "\n",
    "    example = processor(\n",
    "        text=example[\"normalized_text\"],\n",
    "        audio_target=audio[\"array\"],\n",
    "        sampling_rate=audio[\"sampling_rate\"],\n",
    "        return_attention_mask=False,\n",
    "    )\n",
    "\n",
    "    # strip off the batch dimension\n",
    "    example[\"labels\"] = example[\"labels\"][0]\n",
    "\n",
    "    # use SpeechBrain to obtain x-vector\n",
    "    example[\"speaker_embeddings\"] = create_speaker_embedding(audio[\"array\"])\n",
    "\n",
    "    return example"
   ]
  },
  {
   "cell_type": "code",
   "execution_count": null,
   "id": "e0a4e484-5659-4195-b202-a26fbc75275b",
   "metadata": {},
   "outputs": [],
   "source": [
    "# Inspect an example\n",
    "processed_example = prepare_dataset(dataset[0])\n",
    "print(\"\\n\"+list(processed_example.keys()))\n",
    "\n",
    "# Speaker embeddings should be a 512-element vector\n",
    "print(\"\\n\"+processed_example[\"speaker_embeddings\"].shape)"
   ]
  },
  {
   "cell_type": "code",
   "execution_count": null,
   "id": "6b008e6e-b3bf-4af6-b8ee-af595bf69537",
   "metadata": {},
   "outputs": [],
   "source": [
    "# The labels should be a log-mel spectrogram with 80 mel bins\n",
    "plt.figure()\n",
    "plt.imshow(processed_example[\"labels\"].T)\n",
    "plt.xlabel(\"# mel bins\")\n",
    "plt.show()"
   ]
  },
  {
   "cell_type": "code",
   "execution_count": null,
   "id": "d1cded9c-6648-4cc1-93e9-bd74b4300185",
   "metadata": {},
   "outputs": [],
   "source": [
    "def is_not_too_long(input_ids):\n",
    "    \"\"\"\n",
    "    Remove those examples from the dataset are longer than the maximum input length \n",
    "    the model can handle. Model allows up to 600 tokens. Here, we only allow up to 200 tokens.\n",
    "    \"\"\"\n",
    "    input_length = len(input_ids)\n",
    "    return input_length < 200\n",
    "\n",
    "\n",
    "dataset = dataset.filter(is_not_too_long, input_columns=[\"input_ids\"])\n",
    "len(dataset)"
   ]
  },
  {
   "cell_type": "code",
   "execution_count": null,
   "id": "91cea248-68b1-4d43-91dc-0e28df60dbe7",
   "metadata": {},
   "outputs": [],
   "source": [
    "# If all looks good, apply the processing function to the entire dataset\n",
    "# This will take between 5 and 10 minutes\n",
    "dataset = dataset.map(prepare_dataset, remove_columns=dataset.column_names)"
   ]
  },
  {
   "cell_type": "code",
   "execution_count": null,
   "id": "4542c305-1dea-463c-8b73-3b112fb95a6a",
   "metadata": {},
   "outputs": [],
   "source": [
    "# Create train-test split\n",
    "dataset = dataset.train_test_split(test_size=0.1)"
   ]
  },
  {
   "cell_type": "markdown",
   "id": "17f12721-6c14-41f8-9662-49f05f144fff",
   "metadata": {},
   "source": [
    "## Data collator"
   ]
  },
  {
   "cell_type": "markdown",
   "id": "805ec31a-6fd9-4eef-949d-621ef2e0647a",
   "metadata": {},
   "source": [
    "In order to combine multiple examples into a batch, you need to define a custom data collator. This collator will pad shorter sequences with padding tokens, ensuring that all examples have the same length. For the spectrogram labels, the padded portions are replaced with the special value -100. This special value instructs the model to ignore that part of the spectrogram when calculating the spectrogram loss.\n",
    "\n",
    "Note that in SpeechT5, the input to the decoder part of the model is reduced by a factor 2. In other words, it throws away every other timestep from the target sequence. The decoder then predicts a sequence that is twice as long. Since the original target sequence length may be odd, the data collator makes sure to round the maximum length of the batch down to be a multiple of 2.\n"
   ]
  },
  {
   "cell_type": "code",
   "execution_count": null,
   "id": "86073aa6-8f36-42b8-80e8-fb970d86e021",
   "metadata": {},
   "outputs": [],
   "source": [
    "\n",
    "@dataclass\n",
    "class TTSDataCollatorWithPadding:\n",
    "    processor: Any\n",
    "\n",
    "    def __call__(self, features: List[Dict[str, Union[List[int], torch.Tensor]]]) -> Dict[str, torch.Tensor]:\n",
    "        input_ids = [{\"input_ids\": feature[\"input_ids\"]} for feature in features]\n",
    "        label_features = [{\"input_values\": feature[\"labels\"]} for feature in features]\n",
    "        speaker_features = [feature[\"speaker_embeddings\"] for feature in features]\n",
    "\n",
    "        # collate the inputs and targets into a batch\n",
    "        batch = processor.pad(input_ids=input_ids, labels=label_features, return_tensors=\"pt\")\n",
    "\n",
    "        # replace padding with -100 to ignore loss correctly\n",
    "        batch[\"labels\"] = batch[\"labels\"].masked_fill(batch.decoder_attention_mask.unsqueeze(-1).ne(1), -100)\n",
    "\n",
    "        # not used during fine-tuning\n",
    "        del batch[\"decoder_attention_mask\"]\n",
    "\n",
    "        # round down target lengths to multiple of reduction factor\n",
    "        if model.config.reduction_factor > 1:\n",
    "            target_lengths = torch.tensor([len(feature[\"input_values\"]) for feature in label_features])\n",
    "            target_lengths = target_lengths.new(\n",
    "                [length - length % model.config.reduction_factor for length in target_lengths]\n",
    "            )\n",
    "            max_length = max(target_lengths)\n",
    "            batch[\"labels\"] = batch[\"labels\"][:, :max_length]\n",
    "\n",
    "        # also add in the speaker embeddings\n",
    "        batch[\"speaker_embeddings\"] = torch.tensor(speaker_features)\n",
    "\n",
    "        return batch"
   ]
  },
  {
   "cell_type": "code",
   "execution_count": null,
   "id": "f48a4e07-030a-4431-b060-cca60ebfcf27",
   "metadata": {},
   "outputs": [],
   "source": [
    "data_collator = TTSDataCollatorWithPadding(processor=processor)"
   ]
  },
  {
   "cell_type": "markdown",
   "id": "531738f1-5a74-45c0-9c65-ea4b5cff0478",
   "metadata": {},
   "source": [
    "# Training"
   ]
  },
  {
   "cell_type": "code",
   "execution_count": null,
   "id": "674b1f04-17f0-40aa-a0bc-8378536f57bd",
   "metadata": {},
   "outputs": [],
   "source": [
    "# Load pre-trained model\n",
    "model = SpeechT5ForTextToSpeech.from_pretrained(checkpoint)"
   ]
  },
  {
   "cell_type": "code",
   "execution_count": null,
   "id": "1a08d735-62f0-484a-89dc-f12b6cc20503",
   "metadata": {},
   "outputs": [],
   "source": [
    "# use_cache is incompatible with gradient checkpointing\n",
    "# Disable for training\n",
    "model.config.use_cache = False"
   ]
  }
 ],
 "metadata": {
  "kernelspec": {
   "display_name": "Python [conda env:nlp]",
   "language": "python",
   "name": "conda-env-nlp-py"
  },
  "language_info": {
   "codemirror_mode": {
    "name": "ipython",
    "version": 3
   },
   "file_extension": ".py",
   "mimetype": "text/x-python",
   "name": "python",
   "nbconvert_exporter": "python",
   "pygments_lexer": "ipython3",
   "version": "3.10.13"
  }
 },
 "nbformat": 4,
 "nbformat_minor": 5
}
